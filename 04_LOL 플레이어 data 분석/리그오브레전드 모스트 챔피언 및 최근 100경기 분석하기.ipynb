{
 "cells": [
  {
   "cell_type": "markdown",
   "metadata": {},
   "source": [
    "### 경희대학교 산업경영공학과 2015100915 김태호"
   ]
  },
  {
   "cell_type": "markdown",
   "metadata": {},
   "source": [
    "# LOL 플레이어의 실력 분석"
   ]
  },
  {
   "cell_type": "markdown",
   "metadata": {},
   "source": [
    "BeautifulSoup와 urllib, selenium을 사용하여 플레이어의 데이터가 있는 op.gg에서 데이터를 가져와 LOL플레이어의 최근 100경기의 데이터 분석한다."
   ]
  },
  {
   "cell_type": "markdown",
   "metadata": {},
   "source": [
    "### 사용방법\n",
    "- 코드를 실행하고 아래에 \"소환사명을 입력해주세요.: \"가 나오면 소환사명을 입력해 주세요.(ex. 황토매트)"
   ]
  },
  {
   "cell_type": "code",
   "execution_count": 1,
   "metadata": {},
   "outputs": [
    {
     "name": "stdout",
     "output_type": "stream",
     "text": [
      "소환사명을 입력해주세요.: 황토매트\n"
     ]
    }
   ],
   "source": [
    "username = input(\"소환사명을 입력해주세요.: \")"
   ]
  },
  {
   "cell_type": "code",
   "execution_count": 2,
   "metadata": {},
   "outputs": [],
   "source": [
    "from urllib.request import urlopen\n",
    "from bs4 import BeautifulSoup\n",
    "import pandas as pd\n",
    "from tqdm import tqdm_notebook\n",
    "import numpy as np\n",
    "import matplotlib.pyplot as plt\n",
    "%matplotlib inline\n",
    "from matplotlib import font_manager, rc\n",
    "path = \"c:/Windows/Fonts/malgun.ttf\"\n",
    "font_name = font_manager.FontProperties(fname=path).get_name()\n",
    "rc('font', family=font_name)\n",
    "import seaborn as sns\n",
    "from selenium import webdriver\n",
    "import urllib.request\n",
    "import urllib.parse\n",
    "import time"
   ]
  },
  {
   "cell_type": "code",
   "execution_count": 3,
   "metadata": {},
   "outputs": [],
   "source": [
    "url1 = \"http://www.op.gg/summoner/userName=\" #한글을 제외한 주소를 url1에 저장\n",
    "#parse모듈을 사용해 한글부분을 유니코드로 치환\n",
    "url2 = urllib.parse.quote_plus(str(username)) \n",
    "url = url1 + url2\n",
    "driver = webdriver.Chrome('chromedriver.exe')\n",
    "driver.get(url)"
   ]
  },
  {
   "cell_type": "markdown",
   "metadata": {},
   "source": [
    "### op.gg에 서머너 이름 검색 후 최근전적부터 100번의 게임정보 가져오기"
   ]
  },
  {
   "cell_type": "code",
   "execution_count": 4,
   "metadata": {},
   "outputs": [],
   "source": [
    "xpath = \"\"\"//*[@id=\"SummonerRefreshButton\"]\"\"\"\n",
    "driver.find_element_by_xpath(xpath).click() # 최근전적으로 갱신하기\n",
    "time.sleep(10)\n",
    "while True:\n",
    "    try:\n",
    "        xpath = \"\"\"//*[@id=\"SummonerLayoutContent\"]/div[2]/div[2]/div/div[2]/div[4]/a\"\"\"\n",
    "        driver.find_element_by_xpath(xpath).click() # 전적 추가로 보기 버튼 누르기\n",
    "        break\n",
    "    except:\n",
    "        continue\n",
    "while True:\n",
    "    try:\n",
    "        xpath = \"\"\"//*[@id=\"SummonerLayoutContent\"]/div[2]/div[2]/div/div[2]/div[5]/a\"\"\"\n",
    "        driver.find_element_by_xpath(xpath).click() # 전적 추가로 보기 버튼 누르기\n",
    "        break\n",
    "    except:\n",
    "        continue\n",
    "while True:\n",
    "    try:\n",
    "        xpath = \"\"\"//*[@id=\"SummonerLayoutContent\"]/div[2]/div[2]/div/div[2]/div[6]/a\"\"\"\n",
    "        driver.find_element_by_xpath(xpath).click() # 전적 추가로 보기 버튼 누르기\n",
    "        break\n",
    "    except:\n",
    "        continue\n",
    "while True:\n",
    "    try:\n",
    "        xpath = \"\"\"//*[@id=\"SummonerLayoutContent\"]/div[2]/div[2]/div/div[2]/div[7]/a\"\"\"\n",
    "        driver.find_element_by_xpath(xpath).click() # 전적 추가로 보기 버튼 누르기\n",
    "        break \n",
    "    except:\n",
    "        continue        \n",
    "time.sleep(5)"
   ]
  },
  {
   "cell_type": "markdown",
   "metadata": {},
   "source": [
    "html 모두 긁어오기"
   ]
  },
  {
   "cell_type": "code",
   "execution_count": 5,
   "metadata": {},
   "outputs": [],
   "source": [
    "page = driver.page_source\n",
    "soup = BeautifulSoup(page, \"html.parser\")\n",
    "\n",
    "# print(soup.prettify()) 를 통해 확인할 수 있다"
   ]
  },
  {
   "cell_type": "markdown",
   "metadata": {},
   "source": [
    "## 랭크게임 티어와 랭킹알아보기"
   ]
  },
  {
   "cell_type": "code",
   "execution_count": 6,
   "metadata": {},
   "outputs": [],
   "source": [
    "import re #정규식\n",
    "from IPython.display import Image\n",
    "from IPython.core.display import HTML #이미지 출력\n",
    "TierImage = soup.find('div','Medal').find('img','Image')\n",
    "TierImage = TierImage['src']\n",
    "TierImage = \"https:\" + TierImage\n",
    "soup.find('div','Medal') #티어 이미지\n",
    "try:\n",
    "    soup.find('div','LadderRank') #래더 랭크\n",
    "    LadderRank = soup.find('div','LadderRank').get_text()\n",
    "    LadderRank = re.split(('\\n|\\t'), LadderRank)\n",
    "    LadderRank = \"\".join(LadderRank)\n",
    "except:\n",
    "    LadderRank = '랭크기록이 없습니다.'\n",
    "soup.find('div','SummonerRatingMedium') #랭크게임 정보\n",
    "SummonerRatingMedium = soup.find('div','SummonerRatingMedium').get_text()\n",
    "SummonerRatingMedium = re.split(('\\n|\\t'), SummonerRatingMedium)\n",
    "SummonerRatingMedium = \" \".join(SummonerRatingMedium)\n",
    "SummonerRatinglist = SummonerRatingMedium.strip().split('/')"
   ]
  },
  {
   "cell_type": "code",
   "execution_count": 55,
   "metadata": {},
   "outputs": [
    {
     "name": "stdout",
     "output_type": "stream",
     "text": [
      "===>> 소환사명 :  황토매트\n",
      "===>> 래더 랭킹 1,738,557위 (상위 58%)\n",
      "===>> 솔로랭크 Silver 3       8 LP            \n",
      "===>> 146승 164패  승률 47%       직스의 칼날단\n"
     ]
    },
    {
     "data": {
      "text/html": [
       "<img src=\"https://opgg-static.akamaized.net/images/medals/silver_3.png?image=q_auto&v=1\"/>"
      ],
      "text/plain": [
       "<IPython.core.display.Image object>"
      ]
     },
     "execution_count": 55,
     "metadata": {},
     "output_type": "execute_result"
    }
   ],
   "source": [
    "print(\"===>> 소환사명 : \", username)\n",
    "print(\"===>>\", LadderRank)\n",
    "print(\"===>>\", SummonerRatinglist[0])\n",
    "print(\"===>>\", SummonerRatinglist[1].strip())\n",
    "Image(url= TierImage)"
   ]
  },
  {
   "cell_type": "markdown",
   "metadata": {},
   "source": [
    "## 모스트 챔피언 분석하기"
   ]
  },
  {
   "cell_type": "code",
   "execution_count": 8,
   "metadata": {},
   "outputs": [],
   "source": [
    "soup.find('div','MostChampionContent')\n",
    "\n",
    "Champ = [] ; CS = [] ; KDARatio = [] ; tmp = [] ; K = [] ; D = [] ; A = [] ; WinRatio = [] ; PlayedGames = []\n",
    "span = ['Kill','Death','Assist','KDA']\n",
    "dict_tmp = {'ChampionName':Champ,'ChampionMinionKill':CS,'KDA':KDARatio,'Kill':K,'Death':D,'Assist':A, \n",
    "            'WinRatio':WinRatio,'Title':PlayedGames}\n",
    "\n",
    "for x,y in dict_tmp.items():\n",
    "    if x in span:\n",
    "        tmp = soup.find('div','MostChampionContent').find_all('span',x)\n",
    "    else:\n",
    "        tmp = soup.find('div','MostChampionContent').find_all('div',x)\n",
    "    for i in tmp:\n",
    "        tmp = re.split(('\\n|\\t'),i.get_text())\n",
    "        tmp = [n for n in tmp if n][0]\n",
    "        y.append(tmp)\n",
    "    y"
   ]
  },
  {
   "cell_type": "code",
   "execution_count": 9,
   "metadata": {
    "scrolled": true
   },
   "outputs": [
    {
     "name": "stdout",
     "output_type": "stream",
     "text": [
      "가장 많이 플레이한 챔피언\n"
     ]
    },
    {
     "data": {
      "text/html": [
       "<div>\n",
       "<style scoped>\n",
       "    .dataframe tbody tr th:only-of-type {\n",
       "        vertical-align: middle;\n",
       "    }\n",
       "\n",
       "    .dataframe tbody tr th {\n",
       "        vertical-align: top;\n",
       "    }\n",
       "\n",
       "    .dataframe thead th {\n",
       "        text-align: right;\n",
       "    }\n",
       "</style>\n",
       "<table border=\"1\" class=\"dataframe\">\n",
       "  <thead>\n",
       "    <tr style=\"text-align: right;\">\n",
       "      <th></th>\n",
       "      <th>CS</th>\n",
       "      <th>KDARatio</th>\n",
       "      <th>K</th>\n",
       "      <th>D</th>\n",
       "      <th>A</th>\n",
       "      <th>WinRatio</th>\n",
       "      <th>PlayedGames</th>\n",
       "    </tr>\n",
       "    <tr>\n",
       "      <th>Champ</th>\n",
       "      <th></th>\n",
       "      <th></th>\n",
       "      <th></th>\n",
       "      <th></th>\n",
       "      <th></th>\n",
       "      <th></th>\n",
       "      <th></th>\n",
       "    </tr>\n",
       "  </thead>\n",
       "  <tbody>\n",
       "    <tr>\n",
       "      <th>세트</th>\n",
       "      <td>CS 138.0 (5.2)</td>\n",
       "      <td>2.41:1</td>\n",
       "      <td>4.0</td>\n",
       "      <td>4.1</td>\n",
       "      <td>5.8</td>\n",
       "      <td>58%</td>\n",
       "      <td>48 게임</td>\n",
       "    </tr>\n",
       "    <tr>\n",
       "      <th>바이</th>\n",
       "      <td>CS 124.3 (4.8)</td>\n",
       "      <td>2.30:1</td>\n",
       "      <td>5.2</td>\n",
       "      <td>5.1</td>\n",
       "      <td>6.5</td>\n",
       "      <td>50%</td>\n",
       "      <td>38 게임</td>\n",
       "    </tr>\n",
       "    <tr>\n",
       "      <th>미스 포츈</th>\n",
       "      <td>CS 210.9 (8.2)</td>\n",
       "      <td>3.89:1</td>\n",
       "      <td>8.4</td>\n",
       "      <td>3.9</td>\n",
       "      <td>6.8</td>\n",
       "      <td>78%</td>\n",
       "      <td>23 게임</td>\n",
       "    </tr>\n",
       "    <tr>\n",
       "      <th>직스</th>\n",
       "      <td>CS 164.9 (5.7)</td>\n",
       "      <td>2.41:1</td>\n",
       "      <td>3.5</td>\n",
       "      <td>4.6</td>\n",
       "      <td>7.6</td>\n",
       "      <td>38%</td>\n",
       "      <td>21 게임</td>\n",
       "    </tr>\n",
       "    <tr>\n",
       "      <th>진</th>\n",
       "      <td>CS 213.2 (7.3)</td>\n",
       "      <td>3.96:1</td>\n",
       "      <td>6.3</td>\n",
       "      <td>3.9</td>\n",
       "      <td>9.3</td>\n",
       "      <td>53%</td>\n",
       "      <td>17 게임</td>\n",
       "    </tr>\n",
       "    <tr>\n",
       "      <th>레오나</th>\n",
       "      <td>CS 34.8 (1.3)</td>\n",
       "      <td>3.91:1</td>\n",
       "      <td>2.4</td>\n",
       "      <td>3.3</td>\n",
       "      <td>10.6</td>\n",
       "      <td>75%</td>\n",
       "      <td>16 게임</td>\n",
       "    </tr>\n",
       "    <tr>\n",
       "      <th>아트록스</th>\n",
       "      <td>CS 147.3 (4.8)</td>\n",
       "      <td>1.48:1</td>\n",
       "      <td>3.5</td>\n",
       "      <td>6.3</td>\n",
       "      <td>5.8</td>\n",
       "      <td>43%</td>\n",
       "      <td>14 게임</td>\n",
       "    </tr>\n",
       "  </tbody>\n",
       "</table>\n",
       "</div>"
      ],
      "text/plain": [
       "                   CS KDARatio    K    D     A WinRatio PlayedGames\n",
       "Champ                                                              \n",
       "세트     CS 138.0 (5.2)   2.41:1  4.0  4.1   5.8      58%       48 게임\n",
       "바이     CS 124.3 (4.8)   2.30:1  5.2  5.1   6.5      50%       38 게임\n",
       "미스 포츈  CS 210.9 (8.2)   3.89:1  8.4  3.9   6.8      78%       23 게임\n",
       "직스     CS 164.9 (5.7)   2.41:1  3.5  4.6   7.6      38%       21 게임\n",
       "진      CS 213.2 (7.3)   3.96:1  6.3  3.9   9.3      53%       17 게임\n",
       "레오나     CS 34.8 (1.3)   3.91:1  2.4  3.3  10.6      75%       16 게임\n",
       "아트록스   CS 147.3 (4.8)   1.48:1  3.5  6.3   5.8      43%       14 게임"
      ]
     },
     "execution_count": 9,
     "metadata": {},
     "output_type": "execute_result"
    }
   ],
   "source": [
    "MostChampionContent_df = {'Champ':Champ, 'CS':CS, 'KDARatio':KDARatio, 'K':K,'D':D,'A':A\n",
    "                          , 'WinRatio':WinRatio, 'PlayedGames':PlayedGames}\n",
    "MCC_df = pd.DataFrame(MostChampionContent_df)\n",
    "MCC_df.set_index('Champ',inplace=True)\n",
    "print('가장 많이 플레이한 챔피언')\n",
    "MCC_df"
   ]
  },
  {
   "cell_type": "code",
   "execution_count": 10,
   "metadata": {},
   "outputs": [
    {
     "data": {
      "image/png": "[encoded data removed]",
      "text/plain": [
       "<Figure size 1080x1080 with 3 Axes>"
      ]
     },
     "metadata": {
      "needs_background": "light"
     },
     "output_type": "display_data"
    }
   ],
   "source": [
    "KDARatio_fl = [] ; WinRatio_fl = [] ; PlayedGames_fl = []\n",
    "for i in KDARatio:\n",
    "    tmp = re.split((':1|%'),i)\n",
    "    tmp = [n for n in tmp if n][0]\n",
    "    KDARatio_fl.append(tmp)\n",
    "for i in WinRatio:\n",
    "    tmp = re.split((':1|%'),i)\n",
    "    tmp = [n for n in tmp if n][0]\n",
    "    WinRatio_fl.append(tmp)\n",
    "for i in PlayedGames:\n",
    "    tmp = re.split((' 게임'),i)\n",
    "    tmp = [n for n in tmp if n][0]\n",
    "    PlayedGames_fl.append(tmp)\n",
    "CS_new = []\n",
    "n = 0\n",
    "while n < len(list(MCC_df.index)):\n",
    "    sw = 0\n",
    "    k = ''\n",
    "    tmp = MCC_df['CS'][n]\n",
    "    for i in tmp:\n",
    "        if i == '(':\n",
    "            sw = 1\n",
    "        if sw == 1:\n",
    "            k += i\n",
    "    CS_new.append(k.strip('(|)'))\n",
    "    n += 1\n",
    "\n",
    "ForGragh = {'Champ':Champ,'CS':CS_new,'KDARatio':KDARatio_fl, 'WinRatio':WinRatio_fl, 'PlayedGames':PlayedGames_fl}\n",
    "ForGragh = pd.DataFrame(ForGragh)\n",
    "ForGragh['KDARatio'] = ForGragh['KDARatio'].astype(float)\n",
    "ForGragh['WinRatio'] = ForGragh['WinRatio'].astype(float)\n",
    "ForGragh['PlayedGames'] = ForGragh['PlayedGames'].astype(float)\n",
    "ForGragh['CS'] = ForGragh['CS'].astype(float)\n",
    "ForGragh = ForGragh.set_index('Champ').sort_values(by=['PlayedGames'], axis=0, ascending=False)\n",
    "plt.figure()\n",
    "plt.subplot(311)\n",
    "ForGragh['KDARatio'].plot(kind='barh', grid=True, figsize=(15,15))\n",
    "plt.xlabel('KDARatio')\n",
    "plt.subplot(312)\n",
    "ForGragh['WinRatio'].plot(kind='barh', grid=True, figsize=(15,15))\n",
    "plt.xlabel('WinRatio')\n",
    "plt.subplot(313)\n",
    "ForGragh['CS'].plot(kind='barh', grid=True, figsize=(15,15))\n",
    "plt.xlabel('CS')\n",
    "plt.show()"
   ]
  },
  {
   "cell_type": "markdown",
   "metadata": {},
   "source": [
    "## 최근 100경기 분석하기"
   ]
  },
  {
   "cell_type": "code",
   "execution_count": 11,
   "metadata": {},
   "outputs": [
    {
     "name": "stdout",
     "output_type": "stream",
     "text": [
      "최근 100경기\n"
     ]
    },
    {
     "data": {
      "text/html": [
       "<div>\n",
       "<style scoped>\n",
       "    .dataframe tbody tr th:only-of-type {\n",
       "        vertical-align: middle;\n",
       "    }\n",
       "\n",
       "    .dataframe tbody tr th {\n",
       "        vertical-align: top;\n",
       "    }\n",
       "\n",
       "    .dataframe thead th {\n",
       "        text-align: right;\n",
       "    }\n",
       "</style>\n",
       "<table border=\"1\" class=\"dataframe\">\n",
       "  <thead>\n",
       "    <tr style=\"text-align: right;\">\n",
       "      <th></th>\n",
       "      <th>GameType</th>\n",
       "      <th>CS_min</th>\n",
       "      <th>KDARatio</th>\n",
       "      <th>K</th>\n",
       "      <th>D</th>\n",
       "      <th>A</th>\n",
       "      <th>CKRate</th>\n",
       "      <th>GameResult</th>\n",
       "    </tr>\n",
       "    <tr>\n",
       "      <th>ChampionName</th>\n",
       "      <th></th>\n",
       "      <th></th>\n",
       "      <th></th>\n",
       "      <th></th>\n",
       "      <th></th>\n",
       "      <th></th>\n",
       "      <th></th>\n",
       "      <th></th>\n",
       "    </tr>\n",
       "  </thead>\n",
       "  <tbody>\n",
       "    <tr>\n",
       "      <th>아트록스</th>\n",
       "      <td>솔랭</td>\n",
       "      <td>3.3</td>\n",
       "      <td>2.00</td>\n",
       "      <td>7.0</td>\n",
       "      <td>5.0</td>\n",
       "      <td>3.0</td>\n",
       "      <td>42.0</td>\n",
       "      <td>패배</td>\n",
       "    </tr>\n",
       "    <tr>\n",
       "      <th>바이</th>\n",
       "      <td>솔랭</td>\n",
       "      <td>3.9</td>\n",
       "      <td>1.60</td>\n",
       "      <td>3.0</td>\n",
       "      <td>10.0</td>\n",
       "      <td>13.0</td>\n",
       "      <td>59.0</td>\n",
       "      <td>패배</td>\n",
       "    </tr>\n",
       "    <tr>\n",
       "      <th>진</th>\n",
       "      <td>솔랭</td>\n",
       "      <td>7.4</td>\n",
       "      <td>7.67</td>\n",
       "      <td>12.0</td>\n",
       "      <td>3.0</td>\n",
       "      <td>11.0</td>\n",
       "      <td>49.0</td>\n",
       "      <td>승리</td>\n",
       "    </tr>\n",
       "    <tr>\n",
       "      <th>아트록스</th>\n",
       "      <td>솔랭</td>\n",
       "      <td>5.1</td>\n",
       "      <td>2.20</td>\n",
       "      <td>3.0</td>\n",
       "      <td>5.0</td>\n",
       "      <td>8.0</td>\n",
       "      <td>31.0</td>\n",
       "      <td>승리</td>\n",
       "    </tr>\n",
       "    <tr>\n",
       "      <th>아트록스</th>\n",
       "      <td>솔랭</td>\n",
       "      <td>4.9</td>\n",
       "      <td>0.43</td>\n",
       "      <td>3.0</td>\n",
       "      <td>7.0</td>\n",
       "      <td>0.0</td>\n",
       "      <td>50.0</td>\n",
       "      <td>패배</td>\n",
       "    </tr>\n",
       "  </tbody>\n",
       "</table>\n",
       "</div>"
      ],
      "text/plain": [
       "             GameType  CS_min KDARatio     K     D     A  CKRate GameResult\n",
       "ChampionName                                                               \n",
       "아트록스               솔랭     3.3     2.00   7.0   5.0   3.0    42.0         패배\n",
       "바이                 솔랭     3.9     1.60   3.0  10.0  13.0    59.0         패배\n",
       "진                  솔랭     7.4     7.67  12.0   3.0  11.0    49.0         승리\n",
       "아트록스               솔랭     5.1     2.20   3.0   5.0   8.0    31.0         승리\n",
       "아트록스               솔랭     4.9     0.43   3.0   7.0   0.0    50.0         패배"
      ]
     },
     "execution_count": 11,
     "metadata": {},
     "output_type": "execute_result"
    }
   ],
   "source": [
    "soup.find('div','GameItemList').find_all('div','GameItemWrap')\n",
    "Champ = [] ; GameType = [] ; CS = [] ; KDARatio_ = [] ; tmp = [] ; K = [] ; D = [] ; A = [] \n",
    "CKRate_ = [] ; GameResult = [] \n",
    "span = ['Kill','Death','Assist','KDARatio','CS','Wards']\n",
    "dict_tmp = {'ChampionName':Champ,'GameType':GameType,'CS':CS,'KDARatio':KDARatio_,'Kill':K,'Death':D,'Assist':A, \n",
    "            'CKRate' : CKRate_,'GameResult':GameResult}\n",
    "\n",
    "for x,y in dict_tmp.items():\n",
    "    if x in span:\n",
    "        tmp = soup.find('div','RealContent').find_all('span',x)\n",
    "    else:\n",
    "        tmp = soup.find('div','RealContent').find_all('div',x)\n",
    "    for i in tmp:\n",
    "        tmp = re.split(('\\n|\\t'),i.get_text())\n",
    "        tmp = [n for n in tmp if n][0]\n",
    "        y.append(tmp)\n",
    "tmp = []\n",
    "for i in K:\n",
    "    if i < '9999999':\n",
    "        tmp.append(i)\n",
    "K = tmp        \n",
    "KDARatio_ = KDARatio_[1:]\n",
    "K = K[1:]\n",
    "D = D[1:]\n",
    "A = A[1:]\n",
    "\n",
    "Recent_Games = {'ChampionName':Champ,'GameType':GameType,'CS':CS,'KDARatio':KDARatio_,'K':K,\n",
    "                          'D':D,'A':A, 'CKRate' : CKRate_,'GameResult':GameResult}\n",
    "Recent_Games = pd.DataFrame(Recent_Games)\n",
    "Recent_Games.set_index('ChampionName',inplace=True)\n",
    "# 분석하기 쉽게 전처리\n",
    "CS_min = []\n",
    "n = 0\n",
    "while n < len(list(Recent_Games.index)):\n",
    "    sw = 0\n",
    "    k = ''\n",
    "    tmp = CS[n]\n",
    "    for i in tmp:\n",
    "        if i == '(':\n",
    "            sw = 1\n",
    "        if sw == 1:\n",
    "            k += i\n",
    "    CS_min.append(k.strip('(|)'))\n",
    "    n += 1\n",
    "KDARatio = []\n",
    "for i in KDARatio_:\n",
    "    tmp = re.split((':1'),i)\n",
    "    KDARatio.append(tmp[0])\n",
    "CKRate = []\n",
    "for i in CKRate_:\n",
    "    tmp = re.split(('%|킬관여 '),i)\n",
    "    CKRate.append(tmp[1])\n",
    "\n",
    "    Recent_Games2 = {'ChampionName':Champ,'GameType':GameType,'CS_min':CS_min,'KDARatio':KDARatio,'K':K,\n",
    "                          'D':D,'A':A, 'CKRate' : CKRate,'GameResult':GameResult}\n",
    "Recent_Games2 = pd.DataFrame(Recent_Games2)\n",
    "Recent_Games2.set_index('ChampionName',inplace=True)\n",
    "\n",
    "Recent_Games2['CS_min'] =Recent_Games2['CS_min'].astype(float) \n",
    "Recent_Games2['CKRate'] =Recent_Games2['CKRate'].astype(float) \n",
    "Recent_Games2['K'] =Recent_Games2['K'].astype(float) \n",
    "Recent_Games2['D'] =Recent_Games2['D'].astype(float) \n",
    "Recent_Games2['A'] =Recent_Games2['A'].astype(float) \n",
    "print('최근 100경기')\n",
    "Recent_Games2.head()"
   ]
  },
  {
   "cell_type": "markdown",
   "metadata": {},
   "source": [
    "### 100경기 평균 기록"
   ]
  },
  {
   "cell_type": "code",
   "execution_count": 12,
   "metadata": {
    "scrolled": false
   },
   "outputs": [
    {
     "name": "stdout",
     "output_type": "stream",
     "text": [
      "===>> 최근 100경기 승률 : 41.41%\n",
      "===>> 평점 : 2.03점\n",
      "===>> 평균 분당cs : 4.06개\n",
      "===>> 평균 킬관여율 : 44.85%\n"
     ]
    }
   ],
   "source": [
    "Total_vic = list(Recent_Games2['GameResult']).count('승리')\n",
    "Total_def = list(Recent_Games2['GameResult']).count('패배')\n",
    "Total_wr = Total_vic/(Total_vic+Total_def)*100\n",
    "\n",
    "Total_wr = round(Total_wr,2)\n",
    "Total_KDA = round((Recent_Games2['K'].sum()+Recent_Games2['A'].sum())/Recent_Games2['D'].sum(),2)\n",
    "Total_cs = round(Recent_Games2['CS_min'].mean(),2)\n",
    "Total_CKRate = round(Recent_Games2['CKRate'].mean(),2)\n",
    "print(\"===>> 최근 100경기 승률 : {}%\\n===>> 평점 : {}점\\n===>> 평균 분당cs : {}개\\n===>> 평균 킬관여율 : {}%\"\n",
    "      .format(Total_wr,Total_KDA,Total_cs,Total_CKRate))"
   ]
  },
  {
   "cell_type": "markdown",
   "metadata": {},
   "source": [
    "### 챔피언별 기록"
   ]
  },
  {
   "cell_type": "code",
   "execution_count": 27,
   "metadata": {},
   "outputs": [],
   "source": [
    "grouped = Recent_Games2[['CS_min','K','D','A','CKRate']].groupby(level = 0) \n",
    "Recent_Games3 = grouped.mean()\n",
    "Recent_Games3['KDA'] = (Recent_Games3['K']+Recent_Games3['A'])/Recent_Games3['D']\n",
    "Recent_Games3 = Recent_Games3.applymap(lambda x : round(x,2)) \n",
    "Recent_Games3['PlayedGames'] = grouped.count()['CS_min']"
   ]
  },
  {
   "cell_type": "code",
   "execution_count": 28,
   "metadata": {
    "scrolled": false
   },
   "outputs": [
    {
     "data": {
      "text/html": [
       "<div>\n",
       "<style scoped>\n",
       "    .dataframe tbody tr th:only-of-type {\n",
       "        vertical-align: middle;\n",
       "    }\n",
       "\n",
       "    .dataframe tbody tr th {\n",
       "        vertical-align: top;\n",
       "    }\n",
       "\n",
       "    .dataframe thead th {\n",
       "        text-align: right;\n",
       "    }\n",
       "</style>\n",
       "<table border=\"1\" class=\"dataframe\">\n",
       "  <thead>\n",
       "    <tr style=\"text-align: right;\">\n",
       "      <th></th>\n",
       "      <th>CS_min</th>\n",
       "      <th>K</th>\n",
       "      <th>D</th>\n",
       "      <th>A</th>\n",
       "      <th>CKRate</th>\n",
       "      <th>KDA</th>\n",
       "      <th>PlayedGames</th>\n",
       "      <th>WinRatio</th>\n",
       "    </tr>\n",
       "    <tr>\n",
       "      <th>ChampionName</th>\n",
       "      <th></th>\n",
       "      <th></th>\n",
       "      <th></th>\n",
       "      <th></th>\n",
       "      <th></th>\n",
       "      <th></th>\n",
       "      <th></th>\n",
       "      <th></th>\n",
       "    </tr>\n",
       "  </thead>\n",
       "  <tbody>\n",
       "    <tr>\n",
       "      <th>바이</th>\n",
       "      <td>4.84</td>\n",
       "      <td>5.50</td>\n",
       "      <td>5.73</td>\n",
       "      <td>6.77</td>\n",
       "      <td>48.91</td>\n",
       "      <td>2.14</td>\n",
       "      <td>22</td>\n",
       "      <td>50.00</td>\n",
       "    </tr>\n",
       "    <tr>\n",
       "      <th>아트록스</th>\n",
       "      <td>4.69</td>\n",
       "      <td>3.33</td>\n",
       "      <td>5.87</td>\n",
       "      <td>5.40</td>\n",
       "      <td>37.80</td>\n",
       "      <td>1.49</td>\n",
       "      <td>15</td>\n",
       "      <td>42.86</td>\n",
       "    </tr>\n",
       "    <tr>\n",
       "      <th>블리츠크랭크</th>\n",
       "      <td>1.17</td>\n",
       "      <td>2.75</td>\n",
       "      <td>4.83</td>\n",
       "      <td>11.25</td>\n",
       "      <td>55.92</td>\n",
       "      <td>2.90</td>\n",
       "      <td>12</td>\n",
       "      <td>50.00</td>\n",
       "    </tr>\n",
       "    <tr>\n",
       "      <th>조이</th>\n",
       "      <td>4.38</td>\n",
       "      <td>4.00</td>\n",
       "      <td>7.44</td>\n",
       "      <td>5.00</td>\n",
       "      <td>39.11</td>\n",
       "      <td>1.21</td>\n",
       "      <td>9</td>\n",
       "      <td>11.11</td>\n",
       "    </tr>\n",
       "    <tr>\n",
       "      <th>세트</th>\n",
       "      <td>5.01</td>\n",
       "      <td>5.88</td>\n",
       "      <td>5.25</td>\n",
       "      <td>8.00</td>\n",
       "      <td>39.50</td>\n",
       "      <td>2.64</td>\n",
       "      <td>8</td>\n",
       "      <td>50.00</td>\n",
       "    </tr>\n",
       "    <tr>\n",
       "      <th>노틸러스</th>\n",
       "      <td>1.33</td>\n",
       "      <td>2.50</td>\n",
       "      <td>5.50</td>\n",
       "      <td>9.17</td>\n",
       "      <td>48.33</td>\n",
       "      <td>2.12</td>\n",
       "      <td>6</td>\n",
       "      <td>33.33</td>\n",
       "    </tr>\n",
       "    <tr>\n",
       "      <th>미스 포츈</th>\n",
       "      <td>7.78</td>\n",
       "      <td>6.40</td>\n",
       "      <td>5.40</td>\n",
       "      <td>8.00</td>\n",
       "      <td>51.20</td>\n",
       "      <td>2.67</td>\n",
       "      <td>5</td>\n",
       "      <td>60.00</td>\n",
       "    </tr>\n",
       "  </tbody>\n",
       "</table>\n",
       "</div>"
      ],
      "text/plain": [
       "              CS_min     K     D      A  CKRate   KDA  PlayedGames  WinRatio\n",
       "ChampionName                                                                \n",
       "바이              4.84  5.50  5.73   6.77   48.91  2.14           22     50.00\n",
       "아트록스            4.69  3.33  5.87   5.40   37.80  1.49           15     42.86\n",
       "블리츠크랭크          1.17  2.75  4.83  11.25   55.92  2.90           12     50.00\n",
       "조이              4.38  4.00  7.44   5.00   39.11  1.21            9     11.11\n",
       "세트              5.01  5.88  5.25   8.00   39.50  2.64            8     50.00\n",
       "노틸러스            1.33  2.50  5.50   9.17   48.33  2.12            6     33.33\n",
       "미스 포츈           7.78  6.40  5.40   8.00   51.20  2.67            5     60.00"
      ]
     },
     "execution_count": 28,
     "metadata": {},
     "output_type": "execute_result"
    }
   ],
   "source": [
    "# GameResult 와 index를 key로 만든후 카운트 한다.\n",
    "grouped2 = Recent_Games2[['K']].groupby([Recent_Games2.index,Recent_Games2['GameResult']]) \n",
    "grouped3 = grouped2.count()\n",
    "\n",
    "WinRatio = []\n",
    "for tmp in Recent_Games3.index:\n",
    "    try:\n",
    "        grouped_vic = grouped3.loc[(tmp,'승리'), 'K'] \n",
    "    except:\n",
    "        grouped_vic = 0\n",
    "    try:\n",
    "        grouped_def = grouped3.loc[(tmp,'패배'), 'K'] \n",
    "    except:\n",
    "        grouped_def = 0\n",
    "    grouped_wr = grouped_vic/(grouped_vic+grouped_def)*100\n",
    "    grouped_wr = round(grouped_wr,2)\n",
    "    WinRatio.append(grouped_wr)\n",
    "Recent_Games3['WinRatio'] = WinRatio\n",
    "Recent_Games3 = Recent_Games3[Recent_Games3['PlayedGames'] >= 5].sort_values(by=['PlayedGames'], axis=0, ascending=False)\n",
    "Recent_Games3"
   ]
  },
  {
   "cell_type": "code",
   "execution_count": 16,
   "metadata": {
    "scrolled": false
   },
   "outputs": [
    {
     "data": {
      "image/png": "[encoded data removed]",
      "text/plain": [
       "<Figure size 1080x1440 with 5 Axes>"
      ]
     },
     "metadata": {
      "needs_background": "light"
     },
     "output_type": "display_data"
    }
   ],
   "source": [
    "plt.figure()\n",
    "plt.subplot(311)\n",
    "Recent_Games3['PlayedGames'].plot(kind='barh', grid=True, figsize=(15,20))\n",
    "plt.ylabel('PlayedGames')\n",
    "plt.subplot(323)\n",
    "Recent_Games3['WinRatio'].plot(kind='barh', grid=True, figsize=(15,20))\n",
    "plt.ylabel('WinRatio')\n",
    "plt.subplot(324)\n",
    "Recent_Games3['KDA'].plot(kind='barh', grid=True, figsize=(15,20))\n",
    "plt.ylabel('KDA')\n",
    "plt.subplot(325)\n",
    "Recent_Games3['CKRate'].plot(kind='barh', grid=True, figsize=(15,20))\n",
    "plt.ylabel('킬관여율')\n",
    "plt.subplot(326)\n",
    "Recent_Games3['CS_min'].plot(kind='barh', grid=True, figsize=(15,20))\n",
    "plt.ylabel('CS_min')\n",
    "plt.show()"
   ]
  },
  {
   "cell_type": "markdown",
   "metadata": {},
   "source": [
    "# 분석 결과"
   ]
  },
  {
   "cell_type": "markdown",
   "metadata": {},
   "source": [
    "## 모스트챔피언 분석"
   ]
  },
  {
   "cell_type": "code",
   "execution_count": 44,
   "metadata": {
    "scrolled": false
   },
   "outputs": [
    {
     "name": "stdout",
     "output_type": "stream",
     "text": [
      "===>> 소환사명 :  황토매트\n"
     ]
    },
    {
     "data": {
      "text/html": [
       "<img src=\"https://opgg-static.akamaized.net/images/medals/silver_3.png?image=q_auto&v=1\"/>"
      ],
      "text/plain": [
       "<IPython.core.display.Image object>"
      ]
     },
     "execution_count": 44,
     "metadata": {},
     "output_type": "execute_result"
    },
    {
     "name": "stdout",
     "output_type": "stream",
     "text": [
      "===>> 래더 랭킹 1,738,557위 (상위 58%)\n",
      "===>> 솔로랭크 Silver 3       8 LP            \n",
      "===>> 146승 164패  승률 47%       직스의 칼날단\n",
      "가장 많이 플레이한 챔피언\n"
     ]
    },
    {
     "data": {
      "text/html": [
       "<div>\n",
       "<style scoped>\n",
       "    .dataframe tbody tr th:only-of-type {\n",
       "        vertical-align: middle;\n",
       "    }\n",
       "\n",
       "    .dataframe tbody tr th {\n",
       "        vertical-align: top;\n",
       "    }\n",
       "\n",
       "    .dataframe thead th {\n",
       "        text-align: right;\n",
       "    }\n",
       "</style>\n",
       "<table border=\"1\" class=\"dataframe\">\n",
       "  <thead>\n",
       "    <tr style=\"text-align: right;\">\n",
       "      <th></th>\n",
       "      <th>CS</th>\n",
       "      <th>KDARatio</th>\n",
       "      <th>K</th>\n",
       "      <th>D</th>\n",
       "      <th>A</th>\n",
       "      <th>WinRatio</th>\n",
       "      <th>PlayedGames</th>\n",
       "    </tr>\n",
       "    <tr>\n",
       "      <th>Champ</th>\n",
       "      <th></th>\n",
       "      <th></th>\n",
       "      <th></th>\n",
       "      <th></th>\n",
       "      <th></th>\n",
       "      <th></th>\n",
       "      <th></th>\n",
       "    </tr>\n",
       "  </thead>\n",
       "  <tbody>\n",
       "    <tr>\n",
       "      <th>세트</th>\n",
       "      <td>CS 138.0 (5.2)</td>\n",
       "      <td>2.41:1</td>\n",
       "      <td>4.0</td>\n",
       "      <td>4.1</td>\n",
       "      <td>5.8</td>\n",
       "      <td>58%</td>\n",
       "      <td>48 게임</td>\n",
       "    </tr>\n",
       "    <tr>\n",
       "      <th>바이</th>\n",
       "      <td>CS 124.3 (4.8)</td>\n",
       "      <td>2.30:1</td>\n",
       "      <td>5.2</td>\n",
       "      <td>5.1</td>\n",
       "      <td>6.5</td>\n",
       "      <td>50%</td>\n",
       "      <td>38 게임</td>\n",
       "    </tr>\n",
       "    <tr>\n",
       "      <th>미스 포츈</th>\n",
       "      <td>CS 210.9 (8.2)</td>\n",
       "      <td>3.89:1</td>\n",
       "      <td>8.4</td>\n",
       "      <td>3.9</td>\n",
       "      <td>6.8</td>\n",
       "      <td>78%</td>\n",
       "      <td>23 게임</td>\n",
       "    </tr>\n",
       "    <tr>\n",
       "      <th>직스</th>\n",
       "      <td>CS 164.9 (5.7)</td>\n",
       "      <td>2.41:1</td>\n",
       "      <td>3.5</td>\n",
       "      <td>4.6</td>\n",
       "      <td>7.6</td>\n",
       "      <td>38%</td>\n",
       "      <td>21 게임</td>\n",
       "    </tr>\n",
       "    <tr>\n",
       "      <th>진</th>\n",
       "      <td>CS 213.2 (7.3)</td>\n",
       "      <td>3.96:1</td>\n",
       "      <td>6.3</td>\n",
       "      <td>3.9</td>\n",
       "      <td>9.3</td>\n",
       "      <td>53%</td>\n",
       "      <td>17 게임</td>\n",
       "    </tr>\n",
       "    <tr>\n",
       "      <th>레오나</th>\n",
       "      <td>CS 34.8 (1.3)</td>\n",
       "      <td>3.91:1</td>\n",
       "      <td>2.4</td>\n",
       "      <td>3.3</td>\n",
       "      <td>10.6</td>\n",
       "      <td>75%</td>\n",
       "      <td>16 게임</td>\n",
       "    </tr>\n",
       "    <tr>\n",
       "      <th>아트록스</th>\n",
       "      <td>CS 147.3 (4.8)</td>\n",
       "      <td>1.48:1</td>\n",
       "      <td>3.5</td>\n",
       "      <td>6.3</td>\n",
       "      <td>5.8</td>\n",
       "      <td>43%</td>\n",
       "      <td>14 게임</td>\n",
       "    </tr>\n",
       "  </tbody>\n",
       "</table>\n",
       "</div>"
      ],
      "text/plain": [
       "                   CS KDARatio    K    D     A WinRatio PlayedGames\n",
       "Champ                                                              \n",
       "세트     CS 138.0 (5.2)   2.41:1  4.0  4.1   5.8      58%       48 게임\n",
       "바이     CS 124.3 (4.8)   2.30:1  5.2  5.1   6.5      50%       38 게임\n",
       "미스 포츈  CS 210.9 (8.2)   3.89:1  8.4  3.9   6.8      78%       23 게임\n",
       "직스     CS 164.9 (5.7)   2.41:1  3.5  4.6   7.6      38%       21 게임\n",
       "진      CS 213.2 (7.3)   3.96:1  6.3  3.9   9.3      53%       17 게임\n",
       "레오나     CS 34.8 (1.3)   3.91:1  2.4  3.3  10.6      75%       16 게임\n",
       "아트록스   CS 147.3 (4.8)   1.48:1  3.5  6.3   5.8      43%       14 게임"
      ]
     },
     "execution_count": 44,
     "metadata": {},
     "output_type": "execute_result"
    }
   ],
   "source": [
    "from IPython.core.interactiveshell import InteractiveShell \n",
    "InteractiveShell.ast_node_interactivity = \"all\"\n",
    "print(\"===>> 소환사명 : \", username)\n",
    "Image(url= TierImage)\n",
    "print(\"===>>\", LadderRank)\n",
    "print(\"===>>\", SummonerRatinglist[0])\n",
    "print(\"===>>\", SummonerRatinglist[1].strip())\n",
    "\n",
    "print('가장 많이 플레이한 챔피언')\n",
    "MCC_df"
   ]
  },
  {
   "cell_type": "markdown",
   "metadata": {},
   "source": [
    "### 그래프"
   ]
  },
  {
   "cell_type": "code",
   "execution_count": 46,
   "metadata": {},
   "outputs": [
    {
     "data": {
      "image/png": "[encoded data removed]",
      "text/plain": [
       "<Figure size 1080x1080 with 3 Axes>"
      ]
     },
     "metadata": {
      "needs_background": "light"
     },
     "output_type": "display_data"
    }
   ],
   "source": [
    "InteractiveShell.ast_node_interactivity = \"last\"\n",
    "plt.figure()\n",
    "plt.subplot(311)\n",
    "ForGragh['KDARatio'].plot(kind='barh', grid=True, figsize=(15,15))\n",
    "plt.xlabel('KDARatio')\n",
    "plt.subplot(312)\n",
    "ForGragh['WinRatio'].plot(kind='barh', grid=True, figsize=(15,15))\n",
    "plt.xlabel('WinRatio')\n",
    "plt.subplot(313)\n",
    "ForGragh['CS'].plot(kind='barh', grid=True, figsize=(15,15))\n",
    "plt.xlabel('CS')\n",
    "plt.show()"
   ]
  },
  {
   "cell_type": "code",
   "execution_count": 50,
   "metadata": {
    "scrolled": false
   },
   "outputs": [
    {
     "name": "stdout",
     "output_type": "stream",
     "text": [
      "===>> 최근 100경기 분석(5판이상 플레이한 챔피언 기준)\n"
     ]
    },
    {
     "data": {
      "text/html": [
       "<div>\n",
       "<style scoped>\n",
       "    .dataframe tbody tr th:only-of-type {\n",
       "        vertical-align: middle;\n",
       "    }\n",
       "\n",
       "    .dataframe tbody tr th {\n",
       "        vertical-align: top;\n",
       "    }\n",
       "\n",
       "    .dataframe thead th {\n",
       "        text-align: right;\n",
       "    }\n",
       "</style>\n",
       "<table border=\"1\" class=\"dataframe\">\n",
       "  <thead>\n",
       "    <tr style=\"text-align: right;\">\n",
       "      <th></th>\n",
       "      <th>CS_min</th>\n",
       "      <th>K</th>\n",
       "      <th>D</th>\n",
       "      <th>A</th>\n",
       "      <th>CKRate</th>\n",
       "      <th>KDA</th>\n",
       "      <th>PlayedGames</th>\n",
       "      <th>WinRatio</th>\n",
       "    </tr>\n",
       "    <tr>\n",
       "      <th>ChampionName</th>\n",
       "      <th></th>\n",
       "      <th></th>\n",
       "      <th></th>\n",
       "      <th></th>\n",
       "      <th></th>\n",
       "      <th></th>\n",
       "      <th></th>\n",
       "      <th></th>\n",
       "    </tr>\n",
       "  </thead>\n",
       "  <tbody>\n",
       "    <tr>\n",
       "      <th>바이</th>\n",
       "      <td>4.84</td>\n",
       "      <td>5.50</td>\n",
       "      <td>5.73</td>\n",
       "      <td>6.77</td>\n",
       "      <td>48.91</td>\n",
       "      <td>2.14</td>\n",
       "      <td>22</td>\n",
       "      <td>50.00</td>\n",
       "    </tr>\n",
       "    <tr>\n",
       "      <th>아트록스</th>\n",
       "      <td>4.69</td>\n",
       "      <td>3.33</td>\n",
       "      <td>5.87</td>\n",
       "      <td>5.40</td>\n",
       "      <td>37.80</td>\n",
       "      <td>1.49</td>\n",
       "      <td>15</td>\n",
       "      <td>42.86</td>\n",
       "    </tr>\n",
       "    <tr>\n",
       "      <th>블리츠크랭크</th>\n",
       "      <td>1.17</td>\n",
       "      <td>2.75</td>\n",
       "      <td>4.83</td>\n",
       "      <td>11.25</td>\n",
       "      <td>55.92</td>\n",
       "      <td>2.90</td>\n",
       "      <td>12</td>\n",
       "      <td>50.00</td>\n",
       "    </tr>\n",
       "    <tr>\n",
       "      <th>조이</th>\n",
       "      <td>4.38</td>\n",
       "      <td>4.00</td>\n",
       "      <td>7.44</td>\n",
       "      <td>5.00</td>\n",
       "      <td>39.11</td>\n",
       "      <td>1.21</td>\n",
       "      <td>9</td>\n",
       "      <td>11.11</td>\n",
       "    </tr>\n",
       "    <tr>\n",
       "      <th>세트</th>\n",
       "      <td>5.01</td>\n",
       "      <td>5.88</td>\n",
       "      <td>5.25</td>\n",
       "      <td>8.00</td>\n",
       "      <td>39.50</td>\n",
       "      <td>2.64</td>\n",
       "      <td>8</td>\n",
       "      <td>50.00</td>\n",
       "    </tr>\n",
       "    <tr>\n",
       "      <th>노틸러스</th>\n",
       "      <td>1.33</td>\n",
       "      <td>2.50</td>\n",
       "      <td>5.50</td>\n",
       "      <td>9.17</td>\n",
       "      <td>48.33</td>\n",
       "      <td>2.12</td>\n",
       "      <td>6</td>\n",
       "      <td>33.33</td>\n",
       "    </tr>\n",
       "    <tr>\n",
       "      <th>미스 포츈</th>\n",
       "      <td>7.78</td>\n",
       "      <td>6.40</td>\n",
       "      <td>5.40</td>\n",
       "      <td>8.00</td>\n",
       "      <td>51.20</td>\n",
       "      <td>2.67</td>\n",
       "      <td>5</td>\n",
       "      <td>60.00</td>\n",
       "    </tr>\n",
       "  </tbody>\n",
       "</table>\n",
       "</div>"
      ],
      "text/plain": [
       "              CS_min     K     D      A  CKRate   KDA  PlayedGames  WinRatio\n",
       "ChampionName                                                                \n",
       "바이              4.84  5.50  5.73   6.77   48.91  2.14           22     50.00\n",
       "아트록스            4.69  3.33  5.87   5.40   37.80  1.49           15     42.86\n",
       "블리츠크랭크          1.17  2.75  4.83  11.25   55.92  2.90           12     50.00\n",
       "조이              4.38  4.00  7.44   5.00   39.11  1.21            9     11.11\n",
       "세트              5.01  5.88  5.25   8.00   39.50  2.64            8     50.00\n",
       "노틸러스            1.33  2.50  5.50   9.17   48.33  2.12            6     33.33\n",
       "미스 포츈           7.78  6.40  5.40   8.00   51.20  2.67            5     60.00"
      ]
     },
     "execution_count": 50,
     "metadata": {},
     "output_type": "execute_result"
    },
    {
     "name": "stdout",
     "output_type": "stream",
     "text": [
      "===>> 최근 100경기 승률 : 41.41%\n",
      "===>> 평점 : 2.03점\n",
      "===>> 평균 분당cs : 4.06개\n",
      "===>> 평균 킬관여율 : 44.85%\n"
     ]
    }
   ],
   "source": [
    "InteractiveShell.ast_node_interactivity = \"all\"\n",
    "print(\"===>> 최근 100경기 분석(5판이상 플레이한 챔피언 기준)\")\n",
    "Recent_Games3\n",
    "print(\"===>> 최근 100경기 승률 : {}%\\n===>> 평점 : {}점\\n===>> 평균 분당cs : {}개\\n===>> 평균 킬관여율 : {}%\"\n",
    "      .format(Total_wr,Total_KDA,Total_cs,Total_CKRate))"
   ]
  },
  {
   "cell_type": "markdown",
   "metadata": {},
   "source": [
    "## 그래프"
   ]
  },
  {
   "cell_type": "code",
   "execution_count": 53,
   "metadata": {},
   "outputs": [
    {
     "data": {
      "image/png": "[encoded data removed]",
      "text/plain": [
       "<Figure size 1080x1440 with 5 Axes>"
      ]
     },
     "metadata": {
      "needs_background": "light"
     },
     "output_type": "display_data"
    }
   ],
   "source": [
    "InteractiveShell.ast_node_interactivity = \"last\"\n",
    "plt.figure()\n",
    "plt.subplot(311)\n",
    "Recent_Games3['PlayedGames'].plot(kind='barh', grid=True, figsize=(15,20))\n",
    "plt.ylabel('PlayedGames')\n",
    "plt.subplot(323)\n",
    "Recent_Games3['WinRatio'].plot(kind='barh', grid=True, figsize=(15,20))\n",
    "plt.ylabel('WinRatio')\n",
    "plt.subplot(324)\n",
    "Recent_Games3['KDA'].plot(kind='barh', grid=True, figsize=(15,20))\n",
    "plt.ylabel('KDA')\n",
    "plt.subplot(325)\n",
    "Recent_Games3['CKRate'].plot(kind='barh', grid=True, figsize=(15,20))\n",
    "plt.ylabel('킬관여율')\n",
    "plt.subplot(326)\n",
    "Recent_Games3['CS_min'].plot(kind='barh', grid=True, figsize=(15,20))\n",
    "plt.ylabel('CS_min')\n",
    "plt.show()"
   ]
  }
 ],
 "metadata": {
  "kernelspec": {
   "display_name": "Python 3",
   "language": "python",
   "name": "python3"
  },
  "language_info": {
   "codemirror_mode": {
    "name": "ipython",
    "version": 3
   },
   "file_extension": ".py",
   "mimetype": "text/x-python",
   "name": "python",
   "nbconvert_exporter": "python",
   "pygments_lexer": "ipython3",
   "version": "3.7.3"
  }
 },
 "nbformat": 4,
 "nbformat_minor": 2
}
